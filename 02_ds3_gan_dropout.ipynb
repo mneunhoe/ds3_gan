{
  "nbformat": 4,
  "nbformat_minor": 0,
  "metadata": {
    "colab": {
      "name": "02_ds3_gan_dropout.ipynb",
      "provenance": [],
      "collapsed_sections": [],
      "authorship_tag": "ABX9TyMqbx194naYW8Qr7sgbCR74",
      "include_colab_link": true
    },
    "kernelspec": {
      "name": "ir",
      "display_name": "R"
    },
    "language_info": {
      "name": "R"
    },
    "accelerator": "GPU",
    "gpuClass": "standard"
  },
  "cells": [
    {
      "cell_type": "markdown",
      "metadata": {
        "id": "view-in-github",
        "colab_type": "text"
      },
      "source": [
        "<a href=\"https://colab.research.google.com/github/mneunhoe/ds3_gan/blob/main/02_ds3_gan_dropout.ipynb\" target=\"_parent\"><img src=\"https://colab.research.google.com/assets/colab-badge.svg\" alt=\"Open In Colab\"/></a>"
      ]
    },
    {
      "cell_type": "markdown",
      "metadata": {
        "id": "BVrs0WARyxPP"
      },
      "source": [
        "# $\\text{DS}^3$: Generative Adversarial Nets\n",
        "(Marcel Neunhoeffer, LMU Munich)"
      ]
    },
    {
      "cell_type": "markdown",
      "metadata": {
        "id": "6_hlE-QEzvyH"
      },
      "source": [
        "This is the second workbook for the Data Science Summer School course \"Generative Adversarial Nets\". \n",
        "\n",
        "You can find the slides and the following workbooks for this course at: https://github.com/mneunhoe/ds3_gan\n",
        "\n",
        "\n",
        "In this workbook we will implement a Generative Adversarial Net and do a simple experiment with dropout in the Generator.\n",
        "\n"
      ]
    },
    {
      "cell_type": "markdown",
      "metadata": {
        "id": "AmoQAzu61Lhn"
      },
      "source": [
        "Before we get started, we install and load some helpful packages to our R environment. Installing `torch` can take some time (around 6 minutes for me)."
      ]
    },
    {
      "cell_type": "code",
      "metadata": {
        "id": "9s_AizUt1KQU"
      },
      "source": [
        "p_needed <- c(\"torch\", \"RGAN\")\n",
        "packages <- rownames(installed.packages())\n",
        "p_to_install <- p_needed[!(p_needed %in% packages)]\n",
        "if (length(p_to_install) > 0) {\n",
        "  install.packages(p_to_install)\n",
        "}\n",
        "sapply(p_needed, require, character.only = TRUE)"
      ],
      "execution_count": null,
      "outputs": []
    },
    {
      "cell_type": "markdown",
      "metadata": {
        "id": "33FnQ8-QzeJ_"
      },
      "source": [
        "## A simple experiment on dropout\n"
      ]
    },
    {
      "cell_type": "markdown",
      "metadata": {
        "id": "SOHcyGBKClg1"
      },
      "source": [
        "### Setting up the training data"
      ]
    },
    {
      "cell_type": "markdown",
      "metadata": {
        "id": "phEhLlt1xDLp"
      },
      "source": [
        "In this example we will work with similar toydata as in the first workbook."
      ]
    },
    {
      "cell_type": "code",
      "metadata": {
        "id": "x6MTeFvv18U5"
      },
      "source": [
        "toydata <- RGAN::sample_toydata()"
      ],
      "execution_count": null,
      "outputs": []
    },
    {
      "cell_type": "code",
      "source": [
        "#' # Train the default GAN\n",
        "\n",
        "torch::torch_manual_seed(20220803)\n",
        "\n",
        "trained_gan <- RGAN::gan_trainer(toydata)\n",
        "\n",
        "# Sample synthetic data from the trained GAN\n",
        "\n",
        "trained_gan$settings$eval_dropout <- FALSE\n",
        "\n",
        "synthetic_data_no_dropout <- RGAN::sample_synthetic_data(trained_gan)\n",
        "\n",
        "\n",
        "trained_gan$settings$eval_dropout <- TRUE\n",
        "\n",
        "synthetic_data_dropout <- RGAN::sample_synthetic_data(trained_gan)"
      ],
      "metadata": {
        "id": "YGBFBeThSXAC"
      },
      "execution_count": null,
      "outputs": []
    },
    {
      "cell_type": "code",
      "source": [
        "par(mfrow = c(1, 2))\n",
        "# Plot the results\n",
        "RGAN::GAN_update_plot(\n",
        "  data = toydata,\n",
        "  synth_data = synthetic_data_no_dropout,\n",
        "  main = \"(A)\"\n",
        ")\n",
        "\n",
        "RGAN::GAN_update_plot(\n",
        "  data = toydata,\n",
        "  synth_data = synthetic_data_dropout,\n",
        "  main = \"(B)\"\n",
        ")"
      ],
      "metadata": {
        "id": "ou17nS-8TOvR"
      },
      "execution_count": null,
      "outputs": []
    }
  ]
}